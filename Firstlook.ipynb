{
 "cells": [
  {
   "cell_type": "code",
   "execution_count": 47,
   "metadata": {},
   "outputs": [],
   "source": [
    "import pandas as pd\n",
    "import polars as pl\n",
    "import numpy as np"
   ]
  },
  {
   "cell_type": "code",
   "execution_count": 44,
   "metadata": {},
   "outputs": [
    {
     "name": "stdout",
     "output_type": "stream",
     "text": [
      "(2205, 6000)\n",
      "(2205, 6000)\n",
      "(2205, 6000)\n",
      "(2205, 6000)\n",
      "(2205, 6000)\n",
      "(2205, 6000)\n",
      "(2205, 6000)\n",
      "(2205, 600)\n",
      "(2205, 600)\n",
      "(2205, 60)\n",
      "(2205, 60)\n",
      "(2205, 60)\n",
      "(2205, 60)\n",
      "(2205, 60)\n",
      "(2205, 60)\n",
      "(2205, 60)\n",
      "(2205, 60)\n"
     ]
    }
   ],
   "source": [
    "# Pressure\n",
    "PS1 = pl.read_csv('PS1.txt', separator='\\t',\n",
    "                 has_header=False,\n",
    "                 infer_schema_length=10000)\n",
    "\n",
    "PS2 = pl.read_csv('PS2.txt', separator='\\t',\n",
    "                 has_header=False,\n",
    "                 infer_schema_length=10000)\n",
    "\n",
    "PS3 = pl.read_csv('PS3.txt', separator='\\t',\n",
    "                 has_header=False,\n",
    "                 infer_schema_length=10000)\n",
    "\n",
    "PS4 = pl.read_csv('PS4.txt', separator='\\t',\n",
    "                 has_header=False,\n",
    "                 infer_schema_length=10000)\n",
    "\n",
    "PS5 = pl.read_csv('PS5.txt', separator='\\t',\n",
    "                 has_header=False,\n",
    "                 infer_schema_length=10000)\n",
    "\n",
    "PS6 = pl.read_csv('PS6.txt', separator='\\t',\n",
    "                 has_header=False,\n",
    "                 infer_schema_length=10000)\n",
    "\n",
    "# Motor power\t\n",
    "EPS1 = pl.read_csv('EPS1.txt', separator='\\t',has_header=False)\n",
    "\n",
    "# Volume flow\t\t\t\n",
    "FS1 = pl.read_csv('FS1.txt', separator='\\t',has_header=False)\n",
    "FS2 = pl.read_csv('FS2.txt', separator='\\t',has_header=False)\n",
    "\n",
    "#Temperature\n",
    "TS1 = pl.read_csv('TS1.txt', separator='\\t',has_header=False)\n",
    "TS2 = pl.read_csv('TS2.txt', separator='\\t',has_header=False)\n",
    "TS3 = pl.read_csv('TS3.txt', separator='\\t',has_header=False)\n",
    "TS4 = pl.read_csv('TS4.txt', separator='\\t',has_header=False)\n",
    "\n",
    "# Vibration\n",
    "VS1 = pl.read_csv('VS1.txt', separator='\\t',has_header=False)\n",
    "\n",
    "# Cooling efficiency (virtual)\n",
    "CE = pl.read_csv('CE.txt', separator='\\t',has_header=False)\n",
    "\n",
    "# Cooling power (virtual)\n",
    "CP = pl.read_csv('CP.txt', separator='\\t',has_header=False)\n",
    "\n",
    "# Efficiency factor\n",
    "SE = pl.read_csv('SE.txt', separator='\\t',has_header=False)\n",
    "\n",
    "# target condition values\n",
    "profile = pl.read_csv('profile.txt', separator='\\t',has_header=False)\n",
    "\n",
    "\n",
    "\n",
    "dfs = [PS1, PS2, PS3, PS4, PS5, PS6, EPS1, FS1, FS2, TS1, TS2, TS3, TS4, VS1, CE, CP, SE]\n",
    "\n",
    "for df in dfs:\n",
    "    print(df.shape)\n",
    "\n"
   ]
  },
  {
   "cell_type": "code",
   "execution_count": 45,
   "metadata": {},
   "outputs": [
    {
     "data": {
      "text/plain": [
       "(2205, 5)"
      ]
     },
     "execution_count": 45,
     "metadata": {},
     "output_type": "execute_result"
    }
   ],
   "source": [
    "profile.shape"
   ]
  },
  {
   "cell_type": "code",
   "execution_count": 54,
   "metadata": {},
   "outputs": [],
   "source": [
    "PS1mean = PS1.mean(axis=1)\n",
    "PS2mean = PS2.mean(axis=1)\n",
    "PS3mean = PS3.mean(axis=1)\n",
    "PS4mean = PS4.mean(axis=1)\n",
    "PS5mean = PS5.mean(axis=1)\n",
    "PS6mean = PS6.mean(axis=1)\n",
    "\n",
    "EPS1mean = EPS1.mean(axis=1)\n",
    "\n",
    "FS1mean = FS1.mean(axis=1)\n",
    "FS2mean = FS2.mean(axis=1)\n",
    "\n",
    "TS1mean = TS1.mean(axis=1)\n",
    "TS2mean = TS2.mean(axis=1)\n",
    "TS3mean = TS3.mean(axis=1)\n",
    "TS4mean = TS4.mean(axis=1)\n",
    "\n",
    "VS1mean = VS1.mean(axis=1)\n",
    "\n",
    "CEmean = CE.mean(axis=1)\n",
    "\n",
    "CPmean = CP.mean(axis=1)\n",
    "\n",
    "SEmean = SE.mean(axis=1)\n"
   ]
  },
  {
   "cell_type": "code",
   "execution_count": 55,
   "metadata": {},
   "outputs": [
    {
     "data": {
      "text/html": [
       "<div><style>\n",
       ".dataframe > thead > tr > th,\n",
       ".dataframe > tbody > tr > td {\n",
       "  text-align: right;\n",
       "  white-space: pre-wrap;\n",
       "}\n",
       "</style>\n",
       "<small>shape: (2_205, 17)</small><table border=\"1\" class=\"dataframe\"><thead><tr><th>PS1</th><th>PS2</th><th>PS3</th><th>PS4</th><th>PS5</th><th>PS6</th><th>EPS1</th><th>FS1</th><th>FS2</th><th>TS1</th><th>TS2</th><th>TS3</th><th>TS4</th><th>VS1</th><th>CE</th><th>CP</th><th>SE</th></tr><tr><td>f64</td><td>f64</td><td>f64</td><td>f64</td><td>f64</td><td>f64</td><td>f64</td><td>f64</td><td>f64</td><td>f64</td><td>f64</td><td>f64</td><td>f64</td><td>f64</td><td>f64</td><td>f64</td><td>f64</td></tr></thead><tbody><tr><td>160.673492</td><td>109.466913</td><td>1.991475</td><td>0.0</td><td>9.8421695</td><td>9.7280975</td><td>2538.929167</td><td>6.709815</td><td>10.304592</td><td>35.621983</td><td>40.978767</td><td>38.471017</td><td>31.74525</td><td>0.57695</td><td>39.60135</td><td>1.86275</td><td>59.157183</td></tr><tr><td>160.60332</td><td>109.35489</td><td>1.976234</td><td>0.0</td><td>9.635142</td><td>9.529488</td><td>2531.4989</td><td>6.715315</td><td>10.403098</td><td>36.676967</td><td>41.532767</td><td>38.978967</td><td>34.493867</td><td>0.56585</td><td>25.786433</td><td>1.25555</td><td>59.335617</td></tr><tr><td>160.34772</td><td>109.158845</td><td>1.972224</td><td>0.0</td><td>9.530548</td><td>9.427949</td><td>2519.928</td><td>6.718522</td><td>10.36625</td><td>37.8808</td><td>42.44245</td><td>39.63195</td><td>35.64615</td><td>0.576533</td><td>22.218233</td><td>1.113217</td><td>59.54315</td></tr><tr><td>160.188088</td><td>109.064807</td><td>1.946576</td><td>0.0</td><td>9.438827</td><td>9.3374295</td><td>2511.541633</td><td>6.720565</td><td>10.302678</td><td>38.87905</td><td>43.403983</td><td>40.403383</td><td>36.579467</td><td>0.569267</td><td>20.459817</td><td>1.06215</td><td>59.7949</td></tr><tr><td>160.000472</td><td>108.931434</td><td>1.922707</td><td>0.0</td><td>9.358762</td><td>9.260636</td><td>2503.4495</td><td>6.690308</td><td>10.23775</td><td>39.803917</td><td>44.33275</td><td>41.31055</td><td>37.4279</td><td>0.577367</td><td>19.787017</td><td>1.070467</td><td>59.455267</td></tr><tr><td>159.92021</td><td>108.887682</td><td>1.913284</td><td>0.0</td><td>9.30116</td><td>9.206877</td><td>2501.007067</td><td>6.699023</td><td>10.17872</td><td>40.65945</td><td>45.170617</td><td>42.124117</td><td>38.212067</td><td>0.572683</td><td>19.149683</td><td>1.072083</td><td>59.563333</td></tr><tr><td>159.672675</td><td>108.676466</td><td>1.8881</td><td>0.0</td><td>9.233942</td><td>9.14332</td><td>2494.4169</td><td>6.698573</td><td>10.14081</td><td>41.463633</td><td>45.947233</td><td>42.888117</td><td>38.9321</td><td>0.573033</td><td>18.666383</td><td>1.081683</td><td>59.7899</td></tr><tr><td>159.614452</td><td>108.651745</td><td>1.874894</td><td>0.0</td><td>9.194159</td><td>9.105058</td><td>2489.421533</td><td>6.678027</td><td>10.095978</td><td>42.215267</td><td>46.665233</td><td>43.519883</td><td>39.558967</td><td>0.572</td><td>18.178433</td><td>1.0787</td><td>59.590617</td></tr><tr><td>159.475745</td><td>108.529738</td><td>1.85812</td><td>0.0</td><td>9.144616</td><td>9.057067</td><td>2484.419067</td><td>6.671652</td><td>10.03971</td><td>42.891983</td><td>47.339433</td><td>44.20125</td><td>40.080533</td><td>0.567067</td><td>18.334867</td><td>1.115083</td><td>59.608883</td></tr><tr><td>159.437997</td><td>108.510885</td><td>1.841063</td><td>0.0</td><td>9.1048315</td><td>9.019265</td><td>2480.434867</td><td>6.65999</td><td>9.997762</td><td>43.532833</td><td>47.981417</td><td>44.797133</td><td>40.61255</td><td>0.571683</td><td>18.205733</td><td>1.129133</td><td>59.473733</td></tr><tr><td>159.321757</td><td>108.437852</td><td>1.832484</td><td>0.0</td><td>9.068217</td><td>8.983758</td><td>2478.7949</td><td>6.659208</td><td>9.964415</td><td>44.106117</td><td>48.586267</td><td>45.365083</td><td>41.1002</td><td>0.5687</td><td>18.112017</td><td>1.14535</td><td>59.58435</td></tr><tr><td>159.235113</td><td>108.316782</td><td>1.825662</td><td>0.0</td><td>9.023034</td><td>8.940413</td><td>2472.2732</td><td>6.663307</td><td>9.931453</td><td>44.6385</td><td>49.114217</td><td>45.921483</td><td>41.56785</td><td>0.57815</td><td>18.068833</td><td>1.164583</td><td>59.758183</td></tr><tr><td>&hellip;</td><td>&hellip;</td><td>&hellip;</td><td>&hellip;</td><td>&hellip;</td><td>&hellip;</td><td>&hellip;</td><td>&hellip;</td><td>&hellip;</td><td>&hellip;</td><td>&hellip;</td><td>&hellip;</td><td>&hellip;</td><td>&hellip;</td><td>&hellip;</td><td>&hellip;</td><td>&hellip;</td></tr><tr><td>161.226722</td><td>109.79173</td><td>1.993758</td><td>10.202104</td><td>9.970461</td><td>9.84965</td><td>2545.667933</td><td>6.695933</td><td>10.186798</td><td>35.355933</td><td>40.972617</td><td>38.31935</td><td>30.437733</td><td>0.551733</td><td>46.565767</td><td>2.161533</td><td>59.0435</td></tr><tr><td>161.227563</td><td>109.815596</td><td>2.001899</td><td>10.20436</td><td>9.972642</td><td>9.8519165</td><td>2546.162167</td><td>6.694377</td><td>10.186897</td><td>35.357433</td><td>40.97775</td><td>38.319083</td><td>30.4754</td><td>0.553383</td><td>46.352417</td><td>2.152417</td><td>59.024267</td></tr><tr><td>161.207317</td><td>109.759292</td><td>2.00279</td><td>10.201999</td><td>9.97129</td><td>9.850517</td><td>2546.288767</td><td>6.69506</td><td>10.185922</td><td>35.342917</td><td>40.96275</td><td>38.318167</td><td>30.404183</td><td>0.550417</td><td>46.900667</td><td>2.1719</td><td>59.045667</td></tr><tr><td>161.2267</td><td>109.788356</td><td>2.001049</td><td>10.204081</td><td>9.973693</td><td>9.851981</td><td>2548.492433</td><td>6.693697</td><td>10.186425</td><td>35.326817</td><td>40.921317</td><td>38.311217</td><td>30.4174</td><td>0.552767</td><td>46.930483</td><td>2.165933</td><td>58.99555</td></tr><tr><td>161.235612</td><td>109.799787</td><td>2.000534</td><td>10.205982</td><td>9.977087</td><td>9.8549225</td><td>2547.434767</td><td>6.698213</td><td>10.187255</td><td>35.330217</td><td>40.91365</td><td>38.30345</td><td>30.486117</td><td>0.550067</td><td>46.289217</td><td>2.147083</td><td>59.053533</td></tr><tr><td>161.244217</td><td>109.807411</td><td>1.996837</td><td>10.207068</td><td>9.97851</td><td>9.854936</td><td>2546.977033</td><td>6.698467</td><td>10.189285</td><td>35.333033</td><td>40.922583</td><td>38.282083</td><td>30.42095</td><td>0.5493</td><td>46.552917</td><td>2.15885</td><td>59.0681</td></tr><tr><td>161.235373</td><td>109.801761</td><td>1.9940495</td><td>10.20539</td><td>9.9764955</td><td>9.854474</td><td>2547.0404</td><td>6.693777</td><td>10.187475</td><td>35.320817</td><td>40.90095</td><td>38.276067</td><td>30.46295</td><td>0.551517</td><td>46.30835</td><td>2.14675</td><td>59.007067</td></tr><tr><td>161.227572</td><td>109.779581</td><td>2.0014375</td><td>10.202473</td><td>9.972037</td><td>9.850361</td><td>2543.911033</td><td>6.68993</td><td>10.184515</td><td>35.313783</td><td>40.8748</td><td>38.269267</td><td>30.404733</td><td>0.550833</td><td>46.628517</td><td>2.1606</td><td>59.0331</td></tr><tr><td>161.20607</td><td>109.787481</td><td>1.998781</td><td>10.197919</td><td>9.966184</td><td>9.844854</td><td>2543.411333</td><td>6.692182</td><td>10.177767</td><td>35.3216</td><td>40.868883</td><td>38.26825</td><td>30.416233</td><td>0.547483</td><td>46.689817</td><td>2.15145</td><td>59.068</td></tr><tr><td>161.19212</td><td>109.756174</td><td>1.993436</td><td>10.196824</td><td>9.964329</td><td>9.8426285</td><td>2542.729767</td><td>6.693277</td><td>10.176172</td><td>35.319183</td><td>40.87595</td><td>38.246367</td><td>30.42625</td><td>0.545233</td><td>46.4723</td><td>2.1433</td><td>59.13235</td></tr><tr><td>161.208917</td><td>109.793884</td><td>2.007077</td><td>10.198588</td><td>9.968232</td><td>9.84669</td><td>2544.046333</td><td>6.684128</td><td>10.178353</td><td>35.324767</td><td>40.876067</td><td>38.245733</td><td>30.414283</td><td>0.537017</td><td>46.544967</td><td>2.148483</td><td>58.9708</td></tr><tr><td>161.217128</td><td>109.792176</td><td>2.00269</td><td>10.203126</td><td>9.973638</td><td>9.851949</td><td>2543.8183</td><td>6.692302</td><td>10.183393</td><td>35.322233</td><td>40.8594</td><td>38.248917</td><td>30.3908</td><td>0.546583</td><td>46.647933</td><td>2.15705</td><td>59.0539</td></tr></tbody></table></div>"
      ],
      "text/plain": [
       "shape: (2_205, 17)\n",
       "┌────────────┬────────────┬──────────┬───────────┬───┬──────────┬───────────┬──────────┬───────────┐\n",
       "│ PS1        ┆ PS2        ┆ PS3      ┆ PS4       ┆ … ┆ VS1      ┆ CE        ┆ CP       ┆ SE        │\n",
       "│ ---        ┆ ---        ┆ ---      ┆ ---       ┆   ┆ ---      ┆ ---       ┆ ---      ┆ ---       │\n",
       "│ f64        ┆ f64        ┆ f64      ┆ f64       ┆   ┆ f64      ┆ f64       ┆ f64      ┆ f64       │\n",
       "╞════════════╪════════════╪══════════╪═══════════╪═══╪══════════╪═══════════╪══════════╪═══════════╡\n",
       "│ 160.673492 ┆ 109.466913 ┆ 1.991475 ┆ 0.0       ┆ … ┆ 0.57695  ┆ 39.60135  ┆ 1.86275  ┆ 59.157183 │\n",
       "│ 160.60332  ┆ 109.35489  ┆ 1.976234 ┆ 0.0       ┆ … ┆ 0.56585  ┆ 25.786433 ┆ 1.25555  ┆ 59.335617 │\n",
       "│ 160.34772  ┆ 109.158845 ┆ 1.972224 ┆ 0.0       ┆ … ┆ 0.576533 ┆ 22.218233 ┆ 1.113217 ┆ 59.54315  │\n",
       "│ 160.188088 ┆ 109.064807 ┆ 1.946576 ┆ 0.0       ┆ … ┆ 0.569267 ┆ 20.459817 ┆ 1.06215  ┆ 59.7949   │\n",
       "│ …          ┆ …          ┆ …        ┆ …         ┆ … ┆ …        ┆ …         ┆ …        ┆ …         │\n",
       "│ 161.20607  ┆ 109.787481 ┆ 1.998781 ┆ 10.197919 ┆ … ┆ 0.547483 ┆ 46.689817 ┆ 2.15145  ┆ 59.068    │\n",
       "│ 161.19212  ┆ 109.756174 ┆ 1.993436 ┆ 10.196824 ┆ … ┆ 0.545233 ┆ 46.4723   ┆ 2.1433   ┆ 59.13235  │\n",
       "│ 161.208917 ┆ 109.793884 ┆ 2.007077 ┆ 10.198588 ┆ … ┆ 0.537017 ┆ 46.544967 ┆ 2.148483 ┆ 58.9708   │\n",
       "│ 161.217128 ┆ 109.792176 ┆ 2.00269  ┆ 10.203126 ┆ … ┆ 0.546583 ┆ 46.647933 ┆ 2.15705  ┆ 59.0539   │\n",
       "└────────────┴────────────┴──────────┴───────────┴───┴──────────┴───────────┴──────────┴───────────┘"
      ]
     },
     "execution_count": 55,
     "metadata": {},
     "output_type": "execute_result"
    }
   ],
   "source": [
    "Means = {\n",
    "    \"PS1\": PS1mean,\n",
    "    \"PS2\": PS2mean,\n",
    "    \"PS3\": PS3mean,\n",
    "    \"PS4\": PS4mean,\n",
    "    \"PS5\": PS5mean,\n",
    "    \"PS6\": PS6mean,\n",
    "    \"EPS1\": EPS1mean,\n",
    "    \"FS1\": FS1mean,\n",
    "    \"FS2\": FS2mean,\n",
    "    \"TS1\": TS1mean,\n",
    "    \"TS2\": TS2mean,\n",
    "    \"TS3\": TS3mean,\n",
    "    \"TS4\": TS4mean,\n",
    "    \"VS1\": VS1mean,\n",
    "    \"CE\": CEmean,\n",
    "    \"CP\": CPmean,\n",
    "    \"SE\": SEmean\n",
    "    \n",
    "}\n",
    "\n",
    "SensorData = pl.DataFrame(Means)\n",
    "SensorData"
   ]
  },
  {
   "cell_type": "code",
   "execution_count": 64,
   "metadata": {},
   "outputs": [
    {
     "data": {
      "text/html": [
       "<div><style>\n",
       ".dataframe > thead > tr > th,\n",
       ".dataframe > tbody > tr > td {\n",
       "  text-align: right;\n",
       "  white-space: pre-wrap;\n",
       "}\n",
       "</style>\n",
       "<small>shape: (2_205, 5)</small><table border=\"1\" class=\"dataframe\"><thead><tr><th>Cooler condition</th><th>Valve condition</th><th>Internal pump leakage</th><th>Hydraulic accumulator / bar</th><th>stable flag</th></tr><tr><td>i64</td><td>i64</td><td>i64</td><td>i64</td><td>i64</td></tr></thead><tbody><tr><td>3</td><td>100</td><td>0</td><td>130</td><td>1</td></tr><tr><td>3</td><td>100</td><td>0</td><td>130</td><td>1</td></tr><tr><td>3</td><td>100</td><td>0</td><td>130</td><td>1</td></tr><tr><td>3</td><td>100</td><td>0</td><td>130</td><td>1</td></tr><tr><td>3</td><td>100</td><td>0</td><td>130</td><td>1</td></tr><tr><td>3</td><td>100</td><td>0</td><td>130</td><td>1</td></tr><tr><td>3</td><td>100</td><td>0</td><td>130</td><td>1</td></tr><tr><td>3</td><td>100</td><td>0</td><td>130</td><td>1</td></tr><tr><td>3</td><td>100</td><td>0</td><td>130</td><td>1</td></tr><tr><td>3</td><td>100</td><td>0</td><td>130</td><td>1</td></tr><tr><td>3</td><td>100</td><td>0</td><td>130</td><td>1</td></tr><tr><td>3</td><td>100</td><td>0</td><td>130</td><td>1</td></tr><tr><td>&hellip;</td><td>&hellip;</td><td>&hellip;</td><td>&hellip;</td><td>&hellip;</td></tr><tr><td>100</td><td>100</td><td>0</td><td>90</td><td>0</td></tr><tr><td>100</td><td>100</td><td>0</td><td>90</td><td>0</td></tr><tr><td>100</td><td>100</td><td>0</td><td>90</td><td>0</td></tr><tr><td>100</td><td>100</td><td>0</td><td>90</td><td>0</td></tr><tr><td>100</td><td>100</td><td>0</td><td>90</td><td>0</td></tr><tr><td>100</td><td>100</td><td>0</td><td>90</td><td>0</td></tr><tr><td>100</td><td>100</td><td>0</td><td>90</td><td>0</td></tr><tr><td>100</td><td>100</td><td>0</td><td>90</td><td>0</td></tr><tr><td>100</td><td>100</td><td>0</td><td>90</td><td>0</td></tr><tr><td>100</td><td>100</td><td>0</td><td>90</td><td>0</td></tr><tr><td>100</td><td>100</td><td>0</td><td>90</td><td>0</td></tr><tr><td>100</td><td>100</td><td>0</td><td>90</td><td>0</td></tr></tbody></table></div>"
      ],
      "text/plain": [
       "shape: (2_205, 5)\n",
       "┌──────────────────┬─────────────────┬───────────────────────┬───────────────────────┬─────────────┐\n",
       "│ Cooler condition ┆ Valve condition ┆ Internal pump leakage ┆ Hydraulic accumulator ┆ stable flag │\n",
       "│ ---              ┆ ---             ┆ ---                   ┆ / bar                 ┆ ---         │\n",
       "│ i64              ┆ i64             ┆ i64                   ┆ ---                   ┆ i64         │\n",
       "│                  ┆                 ┆                       ┆ i64                   ┆             │\n",
       "╞══════════════════╪═════════════════╪═══════════════════════╪═══════════════════════╪═════════════╡\n",
       "│ 3                ┆ 100             ┆ 0                     ┆ 130                   ┆ 1           │\n",
       "│ 3                ┆ 100             ┆ 0                     ┆ 130                   ┆ 1           │\n",
       "│ 3                ┆ 100             ┆ 0                     ┆ 130                   ┆ 1           │\n",
       "│ 3                ┆ 100             ┆ 0                     ┆ 130                   ┆ 1           │\n",
       "│ …                ┆ …               ┆ …                     ┆ …                     ┆ …           │\n",
       "│ 100              ┆ 100             ┆ 0                     ┆ 90                    ┆ 0           │\n",
       "│ 100              ┆ 100             ┆ 0                     ┆ 90                    ┆ 0           │\n",
       "│ 100              ┆ 100             ┆ 0                     ┆ 90                    ┆ 0           │\n",
       "│ 100              ┆ 100             ┆ 0                     ┆ 90                    ┆ 0           │\n",
       "└──────────────────┴─────────────────┴───────────────────────┴───────────────────────┴─────────────┘"
      ]
     },
     "execution_count": 64,
     "metadata": {},
     "output_type": "execute_result"
    }
   ],
   "source": [
    "\n",
    "column_names = ['Cooler condition',\n",
    "                'Valve condition',\n",
    "                'Internal pump leakage',\n",
    "                'Hydraulic accumulator / bar',\n",
    "                'stable flag']\n",
    "\n",
    "Target = pl.read_csv('profile.txt', separator='\\t',has_header=False, new_columns=column_names)\n",
    "Target"
   ]
  },
  {
   "cell_type": "code",
   "execution_count": 67,
   "metadata": {},
   "outputs": [
    {
     "data": {
      "text/html": [
       "<div><style>\n",
       ".dataframe > thead > tr > th,\n",
       ".dataframe > tbody > tr > td {\n",
       "  text-align: right;\n",
       "  white-space: pre-wrap;\n",
       "}\n",
       "</style>\n",
       "<small>shape: (2_205, 22)</small><table border=\"1\" class=\"dataframe\"><thead><tr><th>PS1</th><th>PS2</th><th>PS3</th><th>PS4</th><th>PS5</th><th>PS6</th><th>EPS1</th><th>FS1</th><th>FS2</th><th>TS1</th><th>TS2</th><th>TS3</th><th>TS4</th><th>VS1</th><th>CE</th><th>CP</th><th>SE</th><th>Cooler condition</th><th>Valve condition</th><th>Internal pump leakage</th><th>Hydraulic accumulator / bar</th><th>stable flag</th></tr><tr><td>f64</td><td>f64</td><td>f64</td><td>f64</td><td>f64</td><td>f64</td><td>f64</td><td>f64</td><td>f64</td><td>f64</td><td>f64</td><td>f64</td><td>f64</td><td>f64</td><td>f64</td><td>f64</td><td>f64</td><td>i64</td><td>i64</td><td>i64</td><td>i64</td><td>i64</td></tr></thead><tbody><tr><td>160.673492</td><td>109.466913</td><td>1.991475</td><td>0.0</td><td>9.8421695</td><td>9.7280975</td><td>2538.929167</td><td>6.709815</td><td>10.304592</td><td>35.621983</td><td>40.978767</td><td>38.471017</td><td>31.74525</td><td>0.57695</td><td>39.60135</td><td>1.86275</td><td>59.157183</td><td>3</td><td>100</td><td>0</td><td>130</td><td>1</td></tr><tr><td>160.60332</td><td>109.35489</td><td>1.976234</td><td>0.0</td><td>9.635142</td><td>9.529488</td><td>2531.4989</td><td>6.715315</td><td>10.403098</td><td>36.676967</td><td>41.532767</td><td>38.978967</td><td>34.493867</td><td>0.56585</td><td>25.786433</td><td>1.25555</td><td>59.335617</td><td>3</td><td>100</td><td>0</td><td>130</td><td>1</td></tr><tr><td>160.34772</td><td>109.158845</td><td>1.972224</td><td>0.0</td><td>9.530548</td><td>9.427949</td><td>2519.928</td><td>6.718522</td><td>10.36625</td><td>37.8808</td><td>42.44245</td><td>39.63195</td><td>35.64615</td><td>0.576533</td><td>22.218233</td><td>1.113217</td><td>59.54315</td><td>3</td><td>100</td><td>0</td><td>130</td><td>1</td></tr><tr><td>160.188088</td><td>109.064807</td><td>1.946576</td><td>0.0</td><td>9.438827</td><td>9.3374295</td><td>2511.541633</td><td>6.720565</td><td>10.302678</td><td>38.87905</td><td>43.403983</td><td>40.403383</td><td>36.579467</td><td>0.569267</td><td>20.459817</td><td>1.06215</td><td>59.7949</td><td>3</td><td>100</td><td>0</td><td>130</td><td>1</td></tr><tr><td>160.000472</td><td>108.931434</td><td>1.922707</td><td>0.0</td><td>9.358762</td><td>9.260636</td><td>2503.4495</td><td>6.690308</td><td>10.23775</td><td>39.803917</td><td>44.33275</td><td>41.31055</td><td>37.4279</td><td>0.577367</td><td>19.787017</td><td>1.070467</td><td>59.455267</td><td>3</td><td>100</td><td>0</td><td>130</td><td>1</td></tr><tr><td>159.92021</td><td>108.887682</td><td>1.913284</td><td>0.0</td><td>9.30116</td><td>9.206877</td><td>2501.007067</td><td>6.699023</td><td>10.17872</td><td>40.65945</td><td>45.170617</td><td>42.124117</td><td>38.212067</td><td>0.572683</td><td>19.149683</td><td>1.072083</td><td>59.563333</td><td>3</td><td>100</td><td>0</td><td>130</td><td>1</td></tr><tr><td>159.672675</td><td>108.676466</td><td>1.8881</td><td>0.0</td><td>9.233942</td><td>9.14332</td><td>2494.4169</td><td>6.698573</td><td>10.14081</td><td>41.463633</td><td>45.947233</td><td>42.888117</td><td>38.9321</td><td>0.573033</td><td>18.666383</td><td>1.081683</td><td>59.7899</td><td>3</td><td>100</td><td>0</td><td>130</td><td>1</td></tr><tr><td>159.614452</td><td>108.651745</td><td>1.874894</td><td>0.0</td><td>9.194159</td><td>9.105058</td><td>2489.421533</td><td>6.678027</td><td>10.095978</td><td>42.215267</td><td>46.665233</td><td>43.519883</td><td>39.558967</td><td>0.572</td><td>18.178433</td><td>1.0787</td><td>59.590617</td><td>3</td><td>100</td><td>0</td><td>130</td><td>1</td></tr><tr><td>159.475745</td><td>108.529738</td><td>1.85812</td><td>0.0</td><td>9.144616</td><td>9.057067</td><td>2484.419067</td><td>6.671652</td><td>10.03971</td><td>42.891983</td><td>47.339433</td><td>44.20125</td><td>40.080533</td><td>0.567067</td><td>18.334867</td><td>1.115083</td><td>59.608883</td><td>3</td><td>100</td><td>0</td><td>130</td><td>1</td></tr><tr><td>159.437997</td><td>108.510885</td><td>1.841063</td><td>0.0</td><td>9.1048315</td><td>9.019265</td><td>2480.434867</td><td>6.65999</td><td>9.997762</td><td>43.532833</td><td>47.981417</td><td>44.797133</td><td>40.61255</td><td>0.571683</td><td>18.205733</td><td>1.129133</td><td>59.473733</td><td>3</td><td>100</td><td>0</td><td>130</td><td>1</td></tr><tr><td>159.321757</td><td>108.437852</td><td>1.832484</td><td>0.0</td><td>9.068217</td><td>8.983758</td><td>2478.7949</td><td>6.659208</td><td>9.964415</td><td>44.106117</td><td>48.586267</td><td>45.365083</td><td>41.1002</td><td>0.5687</td><td>18.112017</td><td>1.14535</td><td>59.58435</td><td>3</td><td>100</td><td>0</td><td>130</td><td>1</td></tr><tr><td>159.235113</td><td>108.316782</td><td>1.825662</td><td>0.0</td><td>9.023034</td><td>8.940413</td><td>2472.2732</td><td>6.663307</td><td>9.931453</td><td>44.6385</td><td>49.114217</td><td>45.921483</td><td>41.56785</td><td>0.57815</td><td>18.068833</td><td>1.164583</td><td>59.758183</td><td>3</td><td>100</td><td>0</td><td>130</td><td>1</td></tr><tr><td>&hellip;</td><td>&hellip;</td><td>&hellip;</td><td>&hellip;</td><td>&hellip;</td><td>&hellip;</td><td>&hellip;</td><td>&hellip;</td><td>&hellip;</td><td>&hellip;</td><td>&hellip;</td><td>&hellip;</td><td>&hellip;</td><td>&hellip;</td><td>&hellip;</td><td>&hellip;</td><td>&hellip;</td><td>&hellip;</td><td>&hellip;</td><td>&hellip;</td><td>&hellip;</td><td>&hellip;</td></tr><tr><td>161.226722</td><td>109.79173</td><td>1.993758</td><td>10.202104</td><td>9.970461</td><td>9.84965</td><td>2545.667933</td><td>6.695933</td><td>10.186798</td><td>35.355933</td><td>40.972617</td><td>38.31935</td><td>30.437733</td><td>0.551733</td><td>46.565767</td><td>2.161533</td><td>59.0435</td><td>100</td><td>100</td><td>0</td><td>90</td><td>0</td></tr><tr><td>161.227563</td><td>109.815596</td><td>2.001899</td><td>10.20436</td><td>9.972642</td><td>9.8519165</td><td>2546.162167</td><td>6.694377</td><td>10.186897</td><td>35.357433</td><td>40.97775</td><td>38.319083</td><td>30.4754</td><td>0.553383</td><td>46.352417</td><td>2.152417</td><td>59.024267</td><td>100</td><td>100</td><td>0</td><td>90</td><td>0</td></tr><tr><td>161.207317</td><td>109.759292</td><td>2.00279</td><td>10.201999</td><td>9.97129</td><td>9.850517</td><td>2546.288767</td><td>6.69506</td><td>10.185922</td><td>35.342917</td><td>40.96275</td><td>38.318167</td><td>30.404183</td><td>0.550417</td><td>46.900667</td><td>2.1719</td><td>59.045667</td><td>100</td><td>100</td><td>0</td><td>90</td><td>0</td></tr><tr><td>161.2267</td><td>109.788356</td><td>2.001049</td><td>10.204081</td><td>9.973693</td><td>9.851981</td><td>2548.492433</td><td>6.693697</td><td>10.186425</td><td>35.326817</td><td>40.921317</td><td>38.311217</td><td>30.4174</td><td>0.552767</td><td>46.930483</td><td>2.165933</td><td>58.99555</td><td>100</td><td>100</td><td>0</td><td>90</td><td>0</td></tr><tr><td>161.235612</td><td>109.799787</td><td>2.000534</td><td>10.205982</td><td>9.977087</td><td>9.8549225</td><td>2547.434767</td><td>6.698213</td><td>10.187255</td><td>35.330217</td><td>40.91365</td><td>38.30345</td><td>30.486117</td><td>0.550067</td><td>46.289217</td><td>2.147083</td><td>59.053533</td><td>100</td><td>100</td><td>0</td><td>90</td><td>0</td></tr><tr><td>161.244217</td><td>109.807411</td><td>1.996837</td><td>10.207068</td><td>9.97851</td><td>9.854936</td><td>2546.977033</td><td>6.698467</td><td>10.189285</td><td>35.333033</td><td>40.922583</td><td>38.282083</td><td>30.42095</td><td>0.5493</td><td>46.552917</td><td>2.15885</td><td>59.0681</td><td>100</td><td>100</td><td>0</td><td>90</td><td>0</td></tr><tr><td>161.235373</td><td>109.801761</td><td>1.9940495</td><td>10.20539</td><td>9.9764955</td><td>9.854474</td><td>2547.0404</td><td>6.693777</td><td>10.187475</td><td>35.320817</td><td>40.90095</td><td>38.276067</td><td>30.46295</td><td>0.551517</td><td>46.30835</td><td>2.14675</td><td>59.007067</td><td>100</td><td>100</td><td>0</td><td>90</td><td>0</td></tr><tr><td>161.227572</td><td>109.779581</td><td>2.0014375</td><td>10.202473</td><td>9.972037</td><td>9.850361</td><td>2543.911033</td><td>6.68993</td><td>10.184515</td><td>35.313783</td><td>40.8748</td><td>38.269267</td><td>30.404733</td><td>0.550833</td><td>46.628517</td><td>2.1606</td><td>59.0331</td><td>100</td><td>100</td><td>0</td><td>90</td><td>0</td></tr><tr><td>161.20607</td><td>109.787481</td><td>1.998781</td><td>10.197919</td><td>9.966184</td><td>9.844854</td><td>2543.411333</td><td>6.692182</td><td>10.177767</td><td>35.3216</td><td>40.868883</td><td>38.26825</td><td>30.416233</td><td>0.547483</td><td>46.689817</td><td>2.15145</td><td>59.068</td><td>100</td><td>100</td><td>0</td><td>90</td><td>0</td></tr><tr><td>161.19212</td><td>109.756174</td><td>1.993436</td><td>10.196824</td><td>9.964329</td><td>9.8426285</td><td>2542.729767</td><td>6.693277</td><td>10.176172</td><td>35.319183</td><td>40.87595</td><td>38.246367</td><td>30.42625</td><td>0.545233</td><td>46.4723</td><td>2.1433</td><td>59.13235</td><td>100</td><td>100</td><td>0</td><td>90</td><td>0</td></tr><tr><td>161.208917</td><td>109.793884</td><td>2.007077</td><td>10.198588</td><td>9.968232</td><td>9.84669</td><td>2544.046333</td><td>6.684128</td><td>10.178353</td><td>35.324767</td><td>40.876067</td><td>38.245733</td><td>30.414283</td><td>0.537017</td><td>46.544967</td><td>2.148483</td><td>58.9708</td><td>100</td><td>100</td><td>0</td><td>90</td><td>0</td></tr><tr><td>161.217128</td><td>109.792176</td><td>2.00269</td><td>10.203126</td><td>9.973638</td><td>9.851949</td><td>2543.8183</td><td>6.692302</td><td>10.183393</td><td>35.322233</td><td>40.8594</td><td>38.248917</td><td>30.3908</td><td>0.546583</td><td>46.647933</td><td>2.15705</td><td>59.0539</td><td>100</td><td>100</td><td>0</td><td>90</td><td>0</td></tr></tbody></table></div>"
      ],
      "text/plain": [
       "shape: (2_205, 22)\n",
       "┌────────────┬────────────┬──────────┬───────────┬───┬────────────┬───────────┬───────────┬────────┐\n",
       "│ PS1        ┆ PS2        ┆ PS3      ┆ PS4       ┆ … ┆ Valve      ┆ Internal  ┆ Hydraulic ┆ stable │\n",
       "│ ---        ┆ ---        ┆ ---      ┆ ---       ┆   ┆ condition  ┆ pump      ┆ accumulat ┆ flag   │\n",
       "│ f64        ┆ f64        ┆ f64      ┆ f64       ┆   ┆ ---        ┆ leakage   ┆ or / bar  ┆ ---    │\n",
       "│            ┆            ┆          ┆           ┆   ┆ i64        ┆ ---       ┆ ---       ┆ i64    │\n",
       "│            ┆            ┆          ┆           ┆   ┆            ┆ i64       ┆ i64       ┆        │\n",
       "╞════════════╪════════════╪══════════╪═══════════╪═══╪════════════╪═══════════╪═══════════╪════════╡\n",
       "│ 160.673492 ┆ 109.466913 ┆ 1.991475 ┆ 0.0       ┆ … ┆ 100        ┆ 0         ┆ 130       ┆ 1      │\n",
       "│ 160.60332  ┆ 109.35489  ┆ 1.976234 ┆ 0.0       ┆ … ┆ 100        ┆ 0         ┆ 130       ┆ 1      │\n",
       "│ 160.34772  ┆ 109.158845 ┆ 1.972224 ┆ 0.0       ┆ … ┆ 100        ┆ 0         ┆ 130       ┆ 1      │\n",
       "│ 160.188088 ┆ 109.064807 ┆ 1.946576 ┆ 0.0       ┆ … ┆ 100        ┆ 0         ┆ 130       ┆ 1      │\n",
       "│ …          ┆ …          ┆ …        ┆ …         ┆ … ┆ …          ┆ …         ┆ …         ┆ …      │\n",
       "│ 161.20607  ┆ 109.787481 ┆ 1.998781 ┆ 10.197919 ┆ … ┆ 100        ┆ 0         ┆ 90        ┆ 0      │\n",
       "│ 161.19212  ┆ 109.756174 ┆ 1.993436 ┆ 10.196824 ┆ … ┆ 100        ┆ 0         ┆ 90        ┆ 0      │\n",
       "│ 161.208917 ┆ 109.793884 ┆ 2.007077 ┆ 10.198588 ┆ … ┆ 100        ┆ 0         ┆ 90        ┆ 0      │\n",
       "│ 161.217128 ┆ 109.792176 ┆ 2.00269  ┆ 10.203126 ┆ … ┆ 100        ┆ 0         ┆ 90        ┆ 0      │\n",
       "└────────────┴────────────┴──────────┴───────────┴───┴────────────┴───────────┴───────────┴────────┘"
      ]
     },
     "execution_count": 67,
     "metadata": {},
     "output_type": "execute_result"
    }
   ],
   "source": [
    "Data = pl.concat([SensorData, Target],\n",
    "                 how= \"horizontal\")\n",
    "Data"
   ]
  },
  {
   "cell_type": "code",
   "execution_count": 69,
   "metadata": {},
   "outputs": [],
   "source": [
    "Data.write_csv(\"Data.csv\")"
   ]
  },
  {
   "cell_type": "code",
   "execution_count": null,
   "metadata": {},
   "outputs": [],
   "source": []
  }
 ],
 "metadata": {
  "kernelspec": {
   "display_name": "Economic",
   "language": "python",
   "name": "economic"
  },
  "language_info": {
   "codemirror_mode": {
    "name": "ipython",
    "version": 3
   },
   "file_extension": ".py",
   "mimetype": "text/x-python",
   "name": "python",
   "nbconvert_exporter": "python",
   "pygments_lexer": "ipython3",
   "version": "3.11.5"
  },
  "orig_nbformat": 4
 },
 "nbformat": 4,
 "nbformat_minor": 2
}
